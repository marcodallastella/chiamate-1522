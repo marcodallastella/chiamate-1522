{
 "cells": [
  {
   "cell_type": "code",
   "execution_count": null,
   "metadata": {},
   "outputs": [],
   "source": [
    "import requests\n",
    "from pathlib import Path\n",
    "import pandas as pd\n",
    "from datetime import datetime, timedelta\n",
    "import numpy as np"
   ]
  },
  {
   "cell_type": "code",
   "execution_count": null,
   "metadata": {},
   "outputs": [],
   "source": [
    "# Download the Excel file containing the data\n",
    "url = \"https://www.istat.it/wp-content/uploads/2024/10/Il_1522_dati_provinciali_settimanali_2013_III_trim_2024.xlsx\"\n",
    "output_path='../raw_data/dati_provinciali_settimanali.xlsx'\n",
    "response = requests.get(url, verify=True)\n",
    "Path(output_path).write_bytes(response.content)"
   ]
  },
  {
   "cell_type": "code",
   "execution_count": null,
   "metadata": {},
   "outputs": [],
   "source": [
    "# Extract csv file with relevant information\n",
    "df = pd.read_excel('../raw_data/dati_provinciali_settimanali.xlsx', sheet_name='tav.2', header=0)\n",
    "df.head(20)"
   ]
  },
  {
   "cell_type": "code",
   "execution_count": null,
   "metadata": {},
   "outputs": [],
   "source": [
    "data = []\n",
    "current_year = None\n",
    "weeks = None\n",
    "\n",
    "for idx, row in df.iterrows():\n",
    "    # Year check with debug print\n",
    "    if pd.notna(row['Unnamed: 0']) and str(row['Unnamed: 0']).strip().isdigit():\n",
    "        current_year = int(row['Unnamed: 0'])\n",
    "        print(f\"Found year: {current_year}\")\n",
    "        continue\n",
    "        \n",
    "    if pd.isna(row['Unnamed: 0']) and any(pd.notna(row[1:5])):  # Check first few cells for any numeric values\n",
    "        weekly_calls = row[1:len(weeks)+1].values\n",
    "        for week_idx, calls in enumerate(weekly_calls):\n",
    "            if pd.notna(calls):\n",
    "                data.append({\n",
    "                    'year': current_year,\n",
    "                    'week': weeks[week_idx],\n",
    "                    'provincia': 'missing',\n",
    "                    'calls': calls\n",
    "                })\n",
    "        continue\n",
    "\n",
    "    # Week numbers\n",
    "    if pd.notna(row['Unnamed: 0']) and row['Unnamed: 0'] == 'Numero Settimana':\n",
    "        weeks = [col for col in row[1:] if pd.notna(col)]\n",
    "        continue\n",
    "       \n",
    "\n",
    "    # Skip rows\n",
    "    if pd.isna(row['Unnamed: 0']) or row['Unnamed: 0'] == 'Numero Settimana' or str(row['Unnamed: 0']).strip().isdigit() or 'Tavola' in str(row['Unnamed: 0']):\n",
    "        continue\n",
    "\n",
    "    # Regular province data\n",
    "    provincia = row['Unnamed: 0']\n",
    "    if pd.notna(provincia) and provincia != '':\n",
    "        weekly_calls = row[1:len(weeks)+1].values\n",
    "        for week_idx, calls in enumerate(weekly_calls):\n",
    "            if pd.notna(calls):\n",
    "                data.append({\n",
    "                    'year': current_year,\n",
    "                    'week': weeks[week_idx],\n",
    "                    'provincia': provincia,\n",
    "                    'calls': calls\n",
    "                })\n",
    "\n",
    "# Create DataFrame\n",
    "clean_df = pd.DataFrame(data)"
   ]
  },
  {
   "cell_type": "code",
   "execution_count": null,
   "metadata": {},
   "outputs": [],
   "source": [
    "clean_df.to_csv('../raw_data/calls_raw.csv', index=False, encoding='UTF-8-sig')"
   ]
  }
 ],
 "metadata": {
  "kernelspec": {
   "display_name": "Python 3",
   "language": "python",
   "name": "python3"
  },
  "language_info": {
   "codemirror_mode": {
    "name": "ipython",
    "version": 3
   },
   "file_extension": ".py",
   "mimetype": "text/x-python",
   "name": "python",
   "nbconvert_exporter": "python",
   "pygments_lexer": "ipython3",
   "version": "3.10.11"
  }
 },
 "nbformat": 4,
 "nbformat_minor": 2
}
