{
 "cells": [
  {
   "cell_type": "code",
   "execution_count": 5,
   "metadata": {},
   "outputs": [],
   "source": [
    "import pandas as pd"
   ]
  },
  {
   "cell_type": "code",
   "execution_count": 6,
   "metadata": {},
   "outputs": [],
   "source": [
    "df = pd.read_csv('../raw_data/calls_raw.csv')"
   ]
  },
  {
   "cell_type": "code",
   "execution_count": 7,
   "metadata": {},
   "outputs": [],
   "source": [
    "df['week'] = df['week'].astype(int)\n",
    "df['calls'] = df['calls'].astype(int)"
   ]
  },
  {
   "cell_type": "code",
   "execution_count": 8,
   "metadata": {},
   "outputs": [
    {
     "data": {
      "text/plain": [
       "array(['Agrigento', 'Alessandria', 'Ancona', 'Arezzo', 'Ascoli Piceno',\n",
       "       'Asti', 'Avellino', 'Bari', 'Barletta-Andria-Trani', 'Belluno',\n",
       "       'Benevento', 'Bergamo', 'Biella', 'Bologna', 'Bolzano/Bozen',\n",
       "       'Brescia', 'Brindisi', 'Cagliari', 'Caltanissetta', 'Campobasso',\n",
       "       'Caserta', 'Catania', 'Catanzaro', 'Chieti', 'Como', 'Cosenza',\n",
       "       'Cremona', 'Crotone', 'Cuneo', 'Enna', 'Fermo', 'Ferrara',\n",
       "       'Firenze', 'Foggia', 'ForlÃ¬-Cesena', 'Frosinone', 'Genova',\n",
       "       'Gorizia', 'Grosseto', 'Imperia', 'Isernia', 'La Spezia',\n",
       "       \"L'Aquila\", 'Latina', 'Lecce', 'Lecco', 'Livorno', 'Lodi', 'Lucca',\n",
       "       'Macerata', 'Mantova', 'Massa-Carrara', 'Matera', 'Messina',\n",
       "       'Milano', 'Modena', 'Monza e della Brianza', 'Napoli', 'Novara',\n",
       "       'Nuoro', 'Olbia-Tempio', 'Oristano', 'Padova', 'Palermo', 'Parma',\n",
       "       'Pavia', 'Perugia', 'Pesaro e Urbino', 'Pescara', 'Piacenza',\n",
       "       'Pisa', 'Pistoia', 'Pordenone', 'Potenza', 'Prato', 'Ragusa',\n",
       "       'Ravenna', 'Reggio Calabria', \"Reggio nell'Emilia\", 'Rieti',\n",
       "       'Rimini', 'Roma', 'Rovigo', 'Salerno', 'Sassari', 'Savona',\n",
       "       'Siena', 'Siracusa', 'Sondrio', 'Sud Sardegna', 'Taranto',\n",
       "       'Teramo', 'Terni', 'Torino', 'Trapani', 'Trento', 'Treviso',\n",
       "       'Trieste', 'Udine', \"Valle d'Aosta/VallÃ©e d'Aoste\", 'Varese',\n",
       "       'Venezia', 'Verbano-Cusio-Ossola', 'Vercelli', 'Verona',\n",
       "       'Vibo Valentia', 'Vicenza', 'Viterbo', 'missing', 'Aosta',\n",
       "       'Bolzano', 'Carbonia-Iglesias', 'Forlì Cesena', 'Medio Campidano',\n",
       "       'Pesaro Urbino', 'Reggio Emilia', 'Ogliastra', 'Z'], dtype=object)"
      ]
     },
     "execution_count": 8,
     "metadata": {},
     "output_type": "execute_result"
    }
   ],
   "source": [
    "df['provincia'].unique()"
   ]
  },
  {
   "cell_type": "code",
   "execution_count": 9,
   "metadata": {},
   "outputs": [
    {
     "data": {
      "text/plain": [
       "array(['Agrigento', 'Alessandria', 'Ancona', 'Arezzo', 'Ascoli Piceno',\n",
       "       'Asti', 'Avellino', 'Bari', 'Barletta-Andria-Trani', 'Belluno',\n",
       "       'Benevento', 'Bergamo', 'Biella', 'Bologna', 'Bolzano', 'Brescia',\n",
       "       'Brindisi', 'Cagliari', 'Caltanissetta', 'Campobasso', 'Caserta',\n",
       "       'Catania', 'Catanzaro', 'Chieti', 'Como', 'Cosenza', 'Cremona',\n",
       "       'Crotone', 'Cuneo', 'Enna', 'Fermo', 'Ferrara', 'Firenze',\n",
       "       'Foggia', 'Forlì-Cesena', 'Frosinone', 'Genova', 'Gorizia',\n",
       "       'Grosseto', 'Imperia', 'Isernia', 'La Spezia', \"L'Aquila\",\n",
       "       'Latina', 'Lecce', 'Lecco', 'Livorno', 'Lodi', 'Lucca', 'Macerata',\n",
       "       'Mantova', 'Massa-Carrara', 'Matera', 'Messina', 'Milano',\n",
       "       'Modena', 'Monza e della Brianza', 'Napoli', 'Novara', 'Nuoro',\n",
       "       'Olbia-Tempio', 'Oristano', 'Padova', 'Palermo', 'Parma', 'Pavia',\n",
       "       'Perugia', 'Pesaro e Urbino', 'Pescara', 'Piacenza', 'Pisa',\n",
       "       'Pistoia', 'Pordenone', 'Potenza', 'Prato', 'Ragusa', 'Ravenna',\n",
       "       'Reggio Calabria', \"Reggio nell'Emilia\", 'Rieti', 'Rimini', 'Roma',\n",
       "       'Rovigo', 'Salerno', 'Sassari', 'Savona', 'Siena', 'Siracusa',\n",
       "       'Sondrio', 'Sud Sardegna', 'Taranto', 'Teramo', 'Terni', 'Torino',\n",
       "       'Trapani', 'Trento', 'Treviso', 'Trieste', 'Udine',\n",
       "       \"Valle d'Aosta\", 'Varese', 'Venezia', 'Verbano-Cusio-Ossola',\n",
       "       'Vercelli', 'Verona', 'Vibo Valentia', 'Vicenza', 'Viterbo',\n",
       "       'missing', 'Aosta', 'Carbonia-Iglesias', 'Forlì Cesena',\n",
       "       'Medio Campidano', 'Pesaro Urbino', 'Reggio Emilia', 'Ogliastra'],\n",
       "      dtype=object)"
      ]
     },
     "execution_count": 9,
     "metadata": {},
     "output_type": "execute_result"
    }
   ],
   "source": [
    "replacements = {\n",
    "   'Valle d\\'Aosta/VallÃ©e d\\'Aoste': 'Valle d\\'Aosta',\n",
    "   'ForlÃ¬-Cesena': 'Forlì-Cesena',\n",
    "   'Z': 'missing',\n",
    "   'Bolzano/Bozen': 'Bolzano'\n",
    "}\n",
    "\n",
    "df['provincia'] = df['provincia'].replace(replacements)\n",
    "\n",
    "\n",
    "df['provincia'].unique()"
   ]
  },
  {
   "cell_type": "code",
   "execution_count": 10,
   "metadata": {},
   "outputs": [
    {
     "data": {
      "text/plain": [
       "array([ 2,  3,  4,  5,  6, 10, 11, 12, 13, 14, 15, 18, 20, 21, 22, 23, 24,\n",
       "       25, 26, 27, 28, 29, 30, 32, 33, 34, 35, 37, 38,  0,  7,  9, 16, 17,\n",
       "       19, 31,  1,  8, 36, 39, 41, 42, 43, 44, 46, 47, 48, 49, 51, 53, 40,\n",
       "       45, 52, 50])"
      ]
     },
     "execution_count": 10,
     "metadata": {},
     "output_type": "execute_result"
    }
   ],
   "source": [
    "df['week'].unique()"
   ]
  },
  {
   "cell_type": "code",
   "execution_count": 11,
   "metadata": {},
   "outputs": [],
   "source": [
    "def get_week_end_date(year, week):\n",
    "   # Start with January 1st of the year\n",
    "   jan_first = pd.Timestamp(f'{year}-01-01')\n",
    "   # Add the number of weeks\n",
    "   week_start = jan_first + pd.Timedelta(weeks=week)\n",
    "   # Add 6 days to get to end of week\n",
    "   week_end = week_start + pd.Timedelta(days=6)\n",
    "   return week_end\n",
    "\n",
    "\n",
    "df['date'] = df.apply(lambda row: get_week_end_date(row['year'], row['week']), axis=1)"
   ]
  },
  {
   "cell_type": "code",
   "execution_count": 12,
   "metadata": {},
   "outputs": [
    {
     "data": {
      "text/html": [
       "<div>\n",
       "<style scoped>\n",
       "    .dataframe tbody tr th:only-of-type {\n",
       "        vertical-align: middle;\n",
       "    }\n",
       "\n",
       "    .dataframe tbody tr th {\n",
       "        vertical-align: top;\n",
       "    }\n",
       "\n",
       "    .dataframe thead th {\n",
       "        text-align: right;\n",
       "    }\n",
       "</style>\n",
       "<table border=\"1\" class=\"dataframe\">\n",
       "  <thead>\n",
       "    <tr style=\"text-align: right;\">\n",
       "      <th></th>\n",
       "      <th>year</th>\n",
       "      <th>week</th>\n",
       "      <th>date</th>\n",
       "      <th>provincia</th>\n",
       "      <th>calls</th>\n",
       "    </tr>\n",
       "  </thead>\n",
       "  <tbody>\n",
       "    <tr>\n",
       "      <th>0</th>\n",
       "      <td>2024</td>\n",
       "      <td>2</td>\n",
       "      <td>2024-01-21</td>\n",
       "      <td>Agrigento</td>\n",
       "      <td>1</td>\n",
       "    </tr>\n",
       "    <tr>\n",
       "      <th>1</th>\n",
       "      <td>2024</td>\n",
       "      <td>3</td>\n",
       "      <td>2024-01-28</td>\n",
       "      <td>Agrigento</td>\n",
       "      <td>3</td>\n",
       "    </tr>\n",
       "    <tr>\n",
       "      <th>2</th>\n",
       "      <td>2024</td>\n",
       "      <td>4</td>\n",
       "      <td>2024-02-04</td>\n",
       "      <td>Agrigento</td>\n",
       "      <td>4</td>\n",
       "    </tr>\n",
       "    <tr>\n",
       "      <th>3</th>\n",
       "      <td>2024</td>\n",
       "      <td>5</td>\n",
       "      <td>2024-02-11</td>\n",
       "      <td>Agrigento</td>\n",
       "      <td>1</td>\n",
       "    </tr>\n",
       "    <tr>\n",
       "      <th>4</th>\n",
       "      <td>2024</td>\n",
       "      <td>6</td>\n",
       "      <td>2024-02-18</td>\n",
       "      <td>Agrigento</td>\n",
       "      <td>4</td>\n",
       "    </tr>\n",
       "    <tr>\n",
       "      <th>...</th>\n",
       "      <td>...</td>\n",
       "      <td>...</td>\n",
       "      <td>...</td>\n",
       "      <td>...</td>\n",
       "      <td>...</td>\n",
       "    </tr>\n",
       "    <tr>\n",
       "      <th>41215</th>\n",
       "      <td>2013</td>\n",
       "      <td>48</td>\n",
       "      <td>2013-12-09</td>\n",
       "      <td>missing</td>\n",
       "      <td>12</td>\n",
       "    </tr>\n",
       "    <tr>\n",
       "      <th>41216</th>\n",
       "      <td>2013</td>\n",
       "      <td>49</td>\n",
       "      <td>2013-12-16</td>\n",
       "      <td>missing</td>\n",
       "      <td>4</td>\n",
       "    </tr>\n",
       "    <tr>\n",
       "      <th>41217</th>\n",
       "      <td>2013</td>\n",
       "      <td>50</td>\n",
       "      <td>2013-12-23</td>\n",
       "      <td>missing</td>\n",
       "      <td>4</td>\n",
       "    </tr>\n",
       "    <tr>\n",
       "      <th>41218</th>\n",
       "      <td>2013</td>\n",
       "      <td>51</td>\n",
       "      <td>2013-12-30</td>\n",
       "      <td>missing</td>\n",
       "      <td>4</td>\n",
       "    </tr>\n",
       "    <tr>\n",
       "      <th>41219</th>\n",
       "      <td>2013</td>\n",
       "      <td>52</td>\n",
       "      <td>2014-01-06</td>\n",
       "      <td>missing</td>\n",
       "      <td>2</td>\n",
       "    </tr>\n",
       "  </tbody>\n",
       "</table>\n",
       "<p>41220 rows × 5 columns</p>\n",
       "</div>"
      ],
      "text/plain": [
       "       year  week       date  provincia  calls\n",
       "0      2024     2 2024-01-21  Agrigento      1\n",
       "1      2024     3 2024-01-28  Agrigento      3\n",
       "2      2024     4 2024-02-04  Agrigento      4\n",
       "3      2024     5 2024-02-11  Agrigento      1\n",
       "4      2024     6 2024-02-18  Agrigento      4\n",
       "...     ...   ...        ...        ...    ...\n",
       "41215  2013    48 2013-12-09    missing     12\n",
       "41216  2013    49 2013-12-16    missing      4\n",
       "41217  2013    50 2013-12-23    missing      4\n",
       "41218  2013    51 2013-12-30    missing      4\n",
       "41219  2013    52 2014-01-06    missing      2\n",
       "\n",
       "[41220 rows x 5 columns]"
      ]
     },
     "execution_count": 12,
     "metadata": {},
     "output_type": "execute_result"
    }
   ],
   "source": [
    "df = df[['year', 'week', 'date', 'provincia', 'calls']]\n",
    "df"
   ]
  },
  {
   "cell_type": "code",
   "execution_count": 13,
   "metadata": {},
   "outputs": [],
   "source": [
    "df.to_csv('../processed_data/calls_clean.csv', index=False, encoding='UTF-8')"
   ]
  }
 ],
 "metadata": {
  "kernelspec": {
   "display_name": "Python 3",
   "language": "python",
   "name": "python3"
  },
  "language_info": {
   "codemirror_mode": {
    "name": "ipython",
    "version": 3
   },
   "file_extension": ".py",
   "mimetype": "text/x-python",
   "name": "python",
   "nbconvert_exporter": "python",
   "pygments_lexer": "ipython3",
   "version": "3.10.11"
  }
 },
 "nbformat": 4,
 "nbformat_minor": 2
}
