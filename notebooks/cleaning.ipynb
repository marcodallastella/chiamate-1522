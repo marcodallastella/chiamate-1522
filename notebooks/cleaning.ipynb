{
 "cells": [
  {
   "cell_type": "code",
   "execution_count": 36,
   "metadata": {},
   "outputs": [],
   "source": [
    "import pandas as pd\n",
    "from datetime import datetime, timedelta\n",
    "import numpy as np"
   ]
  },
  {
   "cell_type": "code",
   "execution_count": 37,
   "metadata": {},
   "outputs": [],
   "source": [
    "df = pd.read_excel('data/Il_1522_dati_provinciali_settimanali_2013_III_trim_2024.xlsx', sheet_name='tav.2')"
   ]
  },
  {
   "cell_type": "code",
   "execution_count": 38,
   "metadata": {},
   "outputs": [],
   "source": [
    "# Initialize lists to store the processed data\n",
    "processed_data = []\n",
    "\n",
    "# Get the column names\n",
    "columns = df.columns\n",
    "\n",
    "# Current year being processed\n",
    "current_year = None"
   ]
  },
  {
   "cell_type": "code",
   "execution_count": 39,
   "metadata": {},
   "outputs": [],
   "source": [
    "# Iterate through the rows\n",
    "for idx, row in df.iterrows():\n",
    "    # Check if this row contains a year\n",
    "    if pd.notna(row['Unnamed: 0']) and str(row['Unnamed: 0']).strip().isdigit():\n",
    "        current_year = int(row['Unnamed: 0'])\n",
    "        continue\n",
    "        \n",
    "    # Skip rows without province name or \"Numero Settimana\" row\n",
    "    if pd.isna(row['Unnamed: 0']) or row['Unnamed: 0'] == 'Numero Settimana' or str(row['Unnamed: 0']).startswith('Tavola'):\n",
    "        continue\n",
    "        \n",
    "    if current_year and pd.notna(row['Unnamed: 0']):\n",
    "        province = row['Unnamed: 0']\n",
    "        \n",
    "        # Process each week\n",
    "        for week_num in range(53):  # Assuming maximum 53 weeks in a year\n",
    "            col_name = f'Unnamed: {week_num + 1}'\n",
    "            if col_name in columns and pd.notna(row[col_name]):\n",
    "                # Calculate the date for the end of the week\n",
    "                try:\n",
    "                    date = datetime(current_year, 1, 1) + timedelta(weeks=week_num, days=6)\n",
    "                    calls = float(str(row[col_name]).replace(',', '.'))\n",
    "                    \n",
    "                    if calls > 0:  # Only add rows with actual calls\n",
    "                        processed_data.append({\n",
    "                            'date': date.strftime('%Y-%m-%d'),\n",
    "                            'province': province,\n",
    "                            'calls': calls\n",
    "                        })\n",
    "                except (ValueError, TypeError):\n",
    "                    continue\n",
    "\n",
    "# Create DataFrame from processed data\n",
    "result_df = pd.DataFrame(processed_data)\n",
    "\n",
    "# Sort by date and province\n",
    "result_df = result_df.sort_values(['date', 'province'])\n",
    "\n",
    "result_df = result_df.drop_duplicates(subset=['date', 'province', 'calls'])\n"
   ]
  },
  {
   "cell_type": "code",
   "execution_count": 40,
   "metadata": {},
   "outputs": [],
   "source": [
    "result_df.to_csv('output/calls.csv', index=False, encoding='UTF-8')"
   ]
  }
 ],
 "metadata": {
  "kernelspec": {
   "display_name": "Python 3",
   "language": "python",
   "name": "python3"
  },
  "language_info": {
   "codemirror_mode": {
    "name": "ipython",
    "version": 3
   },
   "file_extension": ".py",
   "mimetype": "text/x-python",
   "name": "python",
   "nbconvert_exporter": "python",
   "pygments_lexer": "ipython3",
   "version": "3.10.11"
  }
 },
 "nbformat": 4,
 "nbformat_minor": 2
}
