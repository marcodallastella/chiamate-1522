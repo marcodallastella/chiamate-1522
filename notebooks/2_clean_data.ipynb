{
 "cells": [
  {
   "cell_type": "code",
   "execution_count": null,
   "metadata": {},
   "outputs": [],
   "source": [
    "import pandas as pd"
   ]
  },
  {
   "cell_type": "code",
   "execution_count": null,
   "metadata": {},
   "outputs": [],
   "source": [
    "df = pd.read_csv('../data/calls_raw.csv')"
   ]
  },
  {
   "cell_type": "code",
   "execution_count": null,
   "metadata": {},
   "outputs": [],
   "source": [
    "df['week'] = df['week'].astype(int)\n",
    "df['calls'] = df['calls'].astype(int)"
   ]
  },
  {
   "cell_type": "code",
   "execution_count": null,
   "metadata": {},
   "outputs": [],
   "source": [
    "df['provincia'].unique()"
   ]
  },
  {
   "cell_type": "code",
   "execution_count": null,
   "metadata": {},
   "outputs": [],
   "source": [
    "replacements = {\n",
    "   'Valle d\\'Aosta/VallÃ©e d\\'Aoste': 'Valle d\\'Aosta',\n",
    "   'ForlÃ¬-Cesena': 'Forlì-Cesena',\n",
    "   'Z': 'missing',\n",
    "   'Bolzano/Bozen': 'Bolzano'\n",
    "}\n",
    "\n",
    "df['provincia'] = df['provincia'].replace(replacements)\n",
    "\n",
    "\n",
    "df['provincia'].unique()"
   ]
  },
  {
   "cell_type": "code",
   "execution_count": null,
   "metadata": {},
   "outputs": [],
   "source": [
    "df['week'].unique()"
   ]
  },
  {
   "cell_type": "code",
   "execution_count": null,
   "metadata": {},
   "outputs": [],
   "source": [
    "def get_week_end_date(year, week):\n",
    "   # Start with January 1st of the year\n",
    "   jan_first = pd.Timestamp(f'{year}-01-01')\n",
    "   # Add the number of weeks\n",
    "   week_start = jan_first + pd.Timedelta(weeks=week)\n",
    "   # Add 6 days to get to end of week\n",
    "   week_end = week_start + pd.Timedelta(days=6)\n",
    "   return week_end\n",
    "\n",
    "\n",
    "df['date'] = df.apply(lambda row: get_week_end_date(row['year'], row['week']), axis=1)"
   ]
  },
  {
   "cell_type": "code",
   "execution_count": null,
   "metadata": {},
   "outputs": [],
   "source": [
    "df = df[['year', 'week', 'date', 'provincia', 'calls']]\n",
    "df"
   ]
  },
  {
   "cell_type": "code",
   "execution_count": null,
   "metadata": {},
   "outputs": [],
   "source": [
    "df.to_csv('../data/calls_clean.csv', index=False, encoding='UTF-8')"
   ]
  }
 ],
 "metadata": {
  "kernelspec": {
   "display_name": "Python 3",
   "language": "python",
   "name": "python3"
  },
  "language_info": {
   "codemirror_mode": {
    "name": "ipython",
    "version": 3
   },
   "file_extension": ".py",
   "mimetype": "text/x-python",
   "name": "python",
   "nbconvert_exporter": "python",
   "pygments_lexer": "ipython3",
   "version": "3.10.11"
  }
 },
 "nbformat": 4,
 "nbformat_minor": 2
}
