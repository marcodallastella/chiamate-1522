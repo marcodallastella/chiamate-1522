{
 "cells": [
  {
   "cell_type": "code",
   "execution_count": null,
   "metadata": {},
   "outputs": [],
   "source": [
    "import pandas as pd\n",
    "import numpy as np\n",
    "import matplotlib.pyplot as plt\n",
    "import seaborn as sns"
   ]
  },
  {
   "cell_type": "code",
   "execution_count": null,
   "metadata": {},
   "outputs": [],
   "source": [
    "df = pd.read_csv('../data/calls.csv')"
   ]
  },
  {
   "cell_type": "code",
   "execution_count": null,
   "metadata": {},
   "outputs": [],
   "source": [
    "df['year'] = df['date'].str[:4]\n",
    "df['month'] = df['date'].str[5:7]\n",
    "df.sample(4)"
   ]
  },
  {
   "cell_type": "code",
   "execution_count": null,
   "metadata": {},
   "outputs": [],
   "source": [
    "calls_by_month = df.groupby(['year', 'month'])['calls'].sum().reset_index()\n",
    "calls_by_month"
   ]
  },
  {
   "cell_type": "code",
   "execution_count": null,
   "metadata": {},
   "outputs": [],
   "source": [
    "# Create ordered data\n",
    "monthly_calls = df.groupby('month')['calls'].sum()\n",
    "\n",
    "monthly_calls"
   ]
  },
  {
   "cell_type": "code",
   "execution_count": null,
   "metadata": {},
   "outputs": [],
   "source": [
    "# Set style and figure size\n",
    "plt.style.use('seaborn-white')  # Cleaner base style\n",
    "plt.figure(figsize=(12, 6))\n",
    "\n",
    "\n",
    "# Create bar plot\n",
    "bars = plt.bar(monthly_calls.index, monthly_calls.values, color='#2E86C1')\n",
    "\n",
    "# Customize plot\n",
    "plt.title('Dicembre è il mese con più chiamate', fontsize=14, pad=15)\n",
    "plt.xlabel('Mese', fontsize=12)\n",
    "plt.ylabel('Numero di chiaate', fontsize=12)\n",
    "\n",
    "# Remove grid and spines\n",
    "plt.grid(False)\n",
    "plt.gca().spines['top'].set_visible(False)\n",
    "plt.gca().spines['right'].set_visible(False)\n",
    "\n",
    "# Add value labels\n",
    "for bar in bars:\n",
    "   height = bar.get_height()\n",
    "   plt.text(bar.get_x() + bar.get_width()/2., height,\n",
    "            f'{int(height):,}'.replace(',', '.'),\n",
    "            ha='center', va='bottom')\n",
    "\n",
    "# Adjust layout\n",
    "plt.tight_layout()\n",
    "\n",
    "plt.show()"
   ]
  },
  {
   "cell_type": "code",
   "execution_count": null,
   "metadata": {},
   "outputs": [],
   "source": [
    "#Calculate percentages\n",
    "calls_by_month['percentage'] = calls_by_month.groupby('year')['calls'].transform(lambda x: (x / x.sum()) * 100)\n",
    "calls_by_month"
   ]
  },
  {
   "cell_type": "code",
   "execution_count": null,
   "metadata": {},
   "outputs": [],
   "source": [
    "# Group by month and sum percentages\n",
    "monthly_total_percentages = calls_by_month.groupby('month')['percentage'].sum()\n",
    "monthly_total_percentages"
   ]
  },
  {
   "cell_type": "code",
   "execution_count": null,
   "metadata": {},
   "outputs": [],
   "source": [
    "# 1. Average monthly percentages with confidence intervals\n",
    "monthly_stats = calls_by_month.groupby('month')['percentage'].agg(['mean', 'std']).round(2)\n",
    "monthly_stats['ci'] = 1.96 * monthly_stats['std'] / np.sqrt(len(calls_by_month['year'].unique()))\n",
    "\n",
    "# Plot with error bars\n",
    "plt.figure(figsize=(12, 6))\n",
    "plt.errorbar(monthly_stats.index, monthly_stats['mean'], \n",
    "           yerr=monthly_stats['ci'], fmt='o-', color='#2E86C1')\n",
    "\n",
    "plt.title('Media mensile delle chiamate (con intervallo di confidenza)', fontsize=14)\n",
    "plt.xlabel('Mese', fontsize=12)\n",
    "plt.ylabel('Percentuale media (%)', fontsize=12)\n",
    "plt.grid(False)\n",
    "plt.gca().spines['top'].set_visible(False)\n",
    "plt.gca().spines['right'].set_visible(False)\n",
    "plt.savefig('../images/media_mensile.png', dpi=300, bbox_inches='tight')\n",
    "\n",
    "# 2. Heatmap showing yearly patterns\n",
    "plt.figure(figsize=(15, 8))\n",
    "# Prima di fare il pivot, verifichiamo se ci sono duplicati\n",
    "duplicates = calls_by_month.groupby(['year', 'month']).size().reset_index(name='count')\n",
    "duplicates = duplicates[duplicates['count'] > 1]\n",
    "\n",
    "print(\"Righe duplicate:\")\n",
    "print(duplicates)\n",
    "\n",
    "# Risolviamo aggregando i dati prima del pivot\n",
    "df_agg = calls_by_month.groupby(['year', 'month'])['percentage'].mean().reset_index()\n",
    "\n",
    "# Ora creiamo il pivot\n",
    "pivot_df = df_agg.pivot(index='year', columns='month', values='percentage')\n",
    "\n",
    "sns.heatmap(pivot_df, cmap='YlOrRd', annot=True, fmt='.1f', \n",
    "           center=pivot_df.mean().mean())\n",
    "           \n",
    "plt.title('Distribuzione mensile delle chiamate per anno (%)')\n",
    "plt.savefig('../images/heatmap_mensile.png', dpi=300, bbox_inches='tight')\n",
    "plt.show()"
   ]
  }
 ],
 "metadata": {
  "kernelspec": {
   "display_name": "Python 3",
   "language": "python",
   "name": "python3"
  },
  "language_info": {
   "codemirror_mode": {
    "name": "ipython",
    "version": 3
   },
   "file_extension": ".py",
   "mimetype": "text/x-python",
   "name": "python",
   "nbconvert_exporter": "python",
   "pygments_lexer": "ipython3",
   "version": "3.10.11"
  }
 },
 "nbformat": 4,
 "nbformat_minor": 2
}
