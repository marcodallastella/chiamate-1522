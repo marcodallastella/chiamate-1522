{
 "cells": [
  {
   "cell_type": "code",
   "execution_count": null,
   "metadata": {},
   "outputs": [],
   "source": [
    "import requests\n",
    "import pandas as pd\n",
    "import time\n",
    "import random"
   ]
  },
  {
   "cell_type": "code",
   "execution_count": null,
   "metadata": {},
   "outputs": [],
   "source": [
    "def get_coordinates_from_osm(province):\n",
    "    \n",
    "    # Construct the URL for OSM Nominatim\n",
    "    base_url = \"https://nominatim.openstreetmap.org/search\"\n",
    "    \n",
    "    # Parameters for the search\n",
    "    params = {\n",
    "        'q': f\"{province}, Italia\",\n",
    "        'format': 'json',\n",
    "        'limit': 1\n",
    "    }\n",
    "    \n",
    "    # Headers to identify our application\n",
    "    headers = {\n",
    "        'User-Agent': 'ProvinceMapVisualization/1.0 (md3934@columbia.edu)',\n",
    "        'Accept-Language': 'it-IT,it'\n",
    "    }\n",
    "    \n",
    "    try:\n",
    "        # Add random delay between 1-2 seconds\n",
    "        time.sleep(1 + random.random())\n",
    "        \n",
    "        response = requests.get(base_url, params=params, headers=headers)\n",
    "        \n",
    "        if response.status_code == 200:\n",
    "            data = response.json()\n",
    "            if data:\n",
    "                return float(data[0]['lat']), float(data[0]['lon'])\n",
    "        return None\n",
    "    except Exception as e:\n",
    "        print(f\"Error getting coordinates for {province}: {e}\")\n",
    "        return None"
   ]
  },
  {
   "cell_type": "code",
   "execution_count": null,
   "metadata": {},
   "outputs": [],
   "source": [
    "df = pd.read_csv('../data/calls_clean.csv')\n",
    "df.head()"
   ]
  },
  {
   "cell_type": "code",
   "execution_count": null,
   "metadata": {},
   "outputs": [],
   "source": [
    "unique_provinces = df['provincia'].unique()\n",
    "\n",
    "# Create a dictionary to store coordinates\n",
    "coords_dict = {}\n",
    "\n",
    "# Get coordinates for each province\n",
    "print(\"Getting coordinates for provinces...\")\n",
    "for province in unique_provinces:\n",
    "    if province not in coords_dict:\n",
    "        print(f\"Processing {province}...\")\n",
    "        coords = get_coordinates_from_osm(province)\n",
    "        if coords:\n",
    "            coords_dict[province] = coords\n",
    "            print(f\"Found coordinates for {province}: {coords}\")\n",
    "        else:\n",
    "            print(f\"Could not find coordinates for {province}\")"
   ]
  },
  {
   "cell_type": "code",
   "execution_count": null,
   "metadata": {},
   "outputs": [],
   "source": [
    "# Add coordinates to DataFrame\n",
    "df['latitude'] = df['provincia'].map(lambda x: coords_dict.get(x)[0] if coords_dict.get(x) else None)\n",
    "df['longitude'] = df['provincia'].map(lambda x: coords_dict.get(x)[1] if coords_dict.get(x) else None)\n",
    "\n",
    "df.to_csv('../data/calls_latlon.csv', index=False)"
   ]
  },
  {
   "cell_type": "markdown",
   "metadata": {},
   "source": [
    "### Some corrections are needed\n"
   ]
  },
  {
   "cell_type": "code",
   "execution_count": null,
   "metadata": {},
   "outputs": [],
   "source": [
    "df = pd.read_csv('../data/calls_latlon.csv')"
   ]
  },
  {
   "cell_type": "code",
   "execution_count": null,
   "metadata": {},
   "outputs": [],
   "source": [
    "# Make corrections\n",
    "corrections = {\n",
    "    'missing': ('', ''),\n",
    "    'ForlÃ¬-Cesena': (44.22238317778976, 12.040962409019011),\n",
    "    \"Valle d'Aosta/VallÃ©e d'Aoste\": (45.733184284216605, 7.298274149320562),\n",
    "    \"Livorno\": (43.54673711579884, 10.312234337127085), #For some reason the provincia of Livorno was being located in the Isola d'Elba\n",
    "}"
   ]
  },
  {
   "cell_type": "code",
   "execution_count": null,
   "metadata": {},
   "outputs": [],
   "source": [
    "# Apply corrections\n",
    "for province, (lat, lon) in corrections.items():\n",
    "    mask = df['provincia'] == province\n",
    "    df.loc[mask, 'latitude'] = lat\n",
    "    df.loc[mask, 'longitude'] = lon\n",
    "\n",
    "df.to_csv('calls_latlon.csv', index=False)\n",
    "\n",
    "# Verify the changes\n",
    "for province in corrections.keys():\n",
    "    sample = df[df['provincia'] == province].iloc[0] if len(df[df['provincia'] == province]) > 0 else None\n",
    "    if sample is not None:\n",
    "        print(f\"{province}: ({sample['latitude']}, {sample['longitude']})\")\n"
   ]
  }
 ],
 "metadata": {
  "kernelspec": {
   "display_name": "Python 3",
   "language": "python",
   "name": "python3"
  },
  "language_info": {
   "codemirror_mode": {
    "name": "ipython",
    "version": 3
   },
   "file_extension": ".py",
   "mimetype": "text/x-python",
   "name": "python",
   "nbconvert_exporter": "python",
   "pygments_lexer": "ipython3",
   "version": "3.10.11"
  }
 },
 "nbformat": 4,
 "nbformat_minor": 2
}
